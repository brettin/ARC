{
 "cells": [
  {
   "cell_type": "code",
   "execution_count": 1,
   "id": "eccc9159",
   "metadata": {},
   "outputs": [
    {
     "name": "stdout",
     "output_type": "stream",
     "text": [
      "2024-01-13 10:46:35.936829 value: None for name: input_type and field: name='input_type' type=Optional[Type[~Other]] required=False default=None\n",
      "2024-01-13 10:46:35.937000 value: None for name: func and field: name='func' type=Union[Callable[[~Other], NoneType], Callable[[~Other, langchain_core.runnables.config.RunnableConfig], NoneType], NoneType] required=False default=None\n",
      "2024-01-13 10:46:35.937034 value: None for name: afunc and field: name='afunc' type=Union[Callable[[~Other], Awaitable[NoneType]], Callable[[~Other, langchain_core.runnables.config.RunnableConfig], Awaitable[NoneType]], NoneType] required=False default=None\n"
     ]
    }
   ],
   "source": [
    "from CustomLLM import ARGO_LLM"
   ]
  },
  {
   "cell_type": "code",
   "execution_count": 2,
   "id": "993eb9b0",
   "metadata": {},
   "outputs": [
    {
     "name": "stdout",
     "output_type": "stream",
     "text": [
      "2024-01-13 10:46:36.053298 value: False for name: verbose and field: name='verbose' type=bool required=False default_factory='<function _get_verbosity>'\n",
      "2024-01-13 10:46:36.053416 value: 10 for name: n and field: name='n' type=int required=True\n",
      "2024-01-13 10:46:36.053556 value: What are some common flaviviruses for name: text and field: name='text' type=str required=True\n",
      "{'response': 'Some common flaviviruses include:\\n\\n1. Zika virus\\n2. Dengue virus\\n3. West Nile virus\\n4. Yellow fever virus\\n5. Japanese encephalitis virus\\n6. Tick-borne encephalitis virus\\n7. Saint Louis encephalitis virus\\n8. Murray Valley encephalitis virus\\n9. Powassan virus\\n10. Usutu virus'}\n",
      "2024-01-13 10:46:37.479926 value: {\"response\":\"Some common flaviviruses include:\\n\\n1. Zika virus\\n2. Dengue virus\\n3. West Nile virus\\n4. Yellow fever virus\\n5. Japanese encephalitis virus\\n6. Tick-borne encephalitis virus\\n7. Saint Louis encephalitis virus\\n8. Murray Valley encephalitis virus\\n9. Powassan virus\\n10. Usutu virus\"} for name: text and field: name='text' type=str required=True\n",
      "2024-01-13 10:46:37.480096 value: [[Generation(text='{\"response\":\"Some common flaviviruses include:\\\\n\\\\n1. Zika virus\\\\n2. Dengue virus\\\\n3. West Nile virus\\\\n4. Yellow fever virus\\\\n5. Japanese encephalitis virus\\\\n6. Tick-borne encephalitis virus\\\\n7. Saint Louis encephalitis virus\\\\n8. Murray Valley encephalitis virus\\\\n9. Powassan virus\\\\n10. Usutu virus\"}')]] for name: generations and field: name='generations' type=List[List[langchain_core.outputs.generation.Generation]] required=True\n",
      "2024-01-13 10:46:37.480223 value: [[Generation(text='{\"response\":\"Some common flaviviruses include:\\\\n\\\\n1. Zika virus\\\\n2. Dengue virus\\\\n3. West Nile virus\\\\n4. Yellow fever virus\\\\n5. Japanese encephalitis virus\\\\n6. Tick-borne encephalitis virus\\\\n7. Saint Louis encephalitis virus\\\\n8. Murray Valley encephalitis virus\\\\n9. Powassan virus\\\\n10. Usutu virus\"}')]] for name: generations and field: name='generations' type=List[List[langchain_core.outputs.generation.Generation]] required=True\n",
      "2024-01-13 10:46:37.480260 value: None for name: llm_output and field: name='llm_output' type=Optional[dict] required=False default=None\n",
      "2024-01-13 10:46:37.480323 value: fa8d998f-96ca-464c-930e-7b076a8919e7 for name: run_id and field: name='run_id' type=UUID required=True\n"
     ]
    },
    {
     "data": {
      "text/plain": [
       "'{\"response\":\"Some common flaviviruses include:\\\\n\\\\n1. Zika virus\\\\n2. Dengue virus\\\\n3. West Nile virus\\\\n4. Yellow fever virus\\\\n5. Japanese encephalitis virus\\\\n6. Tick-borne encephalitis virus\\\\n7. Saint Louis encephalitis virus\\\\n8. Murray Valley encephalitis virus\\\\n9. Powassan virus\\\\n10. Usutu virus\"}'"
      ]
     },
     "execution_count": 2,
     "metadata": {},
     "output_type": "execute_result"
    }
   ],
   "source": [
    "llm = ARGO_LLM(n=10)\n",
    "\n",
    "llm.invoke(\"What are some common flaviviruses\", {})"
   ]
  }
 ],
 "metadata": {
  "kernelspec": {
   "display_name": "Python 3 (ipykernel)",
   "language": "python",
   "name": "python3"
  },
  "language_info": {
   "codemirror_mode": {
    "name": "ipython",
    "version": 3
   },
   "file_extension": ".py",
   "mimetype": "text/x-python",
   "name": "python",
   "nbconvert_exporter": "python",
   "pygments_lexer": "ipython3",
   "version": "3.12.0"
  }
 },
 "nbformat": 4,
 "nbformat_minor": 5
}
