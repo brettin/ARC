{
 "cells": [
  {
   "cell_type": "code",
   "execution_count": 3,
   "id": "347e33e4",
   "metadata": {},
   "outputs": [
    {
     "name": "stdout",
     "output_type": "stream",
     "text": [
      "2024-01-12 14:58:51.508542 value: None for name: input_type and field: name='input_type' type=Optional[Type[~Other]] required=False default=None\n",
      "2024-01-12 14:58:51.508669 value: None for name: func and field: name='func' type=Union[Callable[[~Other], NoneType], Callable[[~Other, langchain_core.runnables.config.RunnableConfig], NoneType], NoneType] required=False default=None\n",
      "2024-01-12 14:58:51.508711 value: None for name: afunc and field: name='afunc' type=Union[Callable[[~Other], Awaitable[NoneType]], Callable[[~Other, langchain_core.runnables.config.RunnableConfig], Awaitable[NoneType]], NoneType] required=False default=None\n"
     ]
    }
   ],
   "source": [
    "from typing import Any, List, Mapping, Optional\n",
    "from langchain_core.callbacks.manager import CallbackManagerForLLMRun\n",
    "from langchain_core.language_models.llms import LLM\n",
    "import requests\n",
    "import json\n",
    "from datetime import datetime\n",
    "def _print(message):\n",
    "    print (\"{} {}\".format(datetime.now(), message))\n",
    "    return"
   ]
  },
  {
   "cell_type": "code",
   "execution_count": 6,
   "id": "1a4ef89c",
   "metadata": {},
   "outputs": [],
   "source": [
    "def _invoke_model(prompt: str, url: str = None) -> str:  \n",
    "        \n",
    "    if url is None:\n",
    "        url = \"https://apps-dev.inside.anl.gov/argoapi/api/v1/resource/chat/\"\n",
    "    headers = {\n",
    "        \"Content-Type\": \"application/json\"\n",
    "    }\n",
    "    data = {\n",
    "            \"user\": \"mtdapi\",\n",
    "            \"model\": \"gpt35\",\n",
    "            \"system\": \"You are a helpful operations assistant AI named Argo. You specialize in supporting the personnel, scientists, and facility users at Argonne National Laboratory.\",\n",
    "            \"prompt\": [prompt],\n",
    "            \"stop\": [],\n",
    "            \"temperature\": 0.8,\n",
    "            \"top_p\": 0.7\n",
    "    }\n",
    "        \n",
    "    data_json = json.dumps(data)    \n",
    "    response = requests.post(url, headers=headers, data=data_json)\n",
    "\n",
    "    if response.status_code == 200:\n",
    "        print(response.json())\n",
    "    else:\n",
    "        print(f\"Request failed with status code: {response.status_code}\")\n",
    "        print(response.text)\n",
    "    \n",
    "    return response.text"
   ]
  },
  {
   "cell_type": "code",
   "execution_count": 11,
   "id": "600f3d45",
   "metadata": {},
   "outputs": [],
   "source": [
    "#    curl -X POST https://apps-dev.inside.anl.gov/argoapi/api/v1/resource/chat/ \\\n",
    "#         -H \"Content-Type: application/json\" \\\n",
    "#         -d '{\"user\":\"mtdapi\", \"model\":\"gpt35\", \"system\": \"You are a helpful operations assistant AI named Argo. You specialize in supporting the personnel, scientists, and facility users at Argonne National Laboratory.\", \"prompt\":[\"what is your name\"], \"stop\":[], \"temperature\":0.8, \"top_p\":0.7}'\n",
    "class ARGO_LLM(LLM):\n",
    "\n",
    "    n: int\n",
    "    @property\n",
    "    def _llm_type(self) -> str:\n",
    "        return \"custom\"\n",
    "\n",
    "    def _call(\n",
    "        self,\n",
    "        prompt: str,\n",
    "        stop: Optional[List[str]] = None,\n",
    "        run_manager: Optional[CallbackManagerForLLMRun] = None,\n",
    "        **kwargs: Any,\n",
    "    ) -> str:\n",
    "        if stop is not None:\n",
    "            raise ValueError(\"stop kwargs are not permitted.\")\n",
    "        #return prompt[: self.n]\n",
    "        _print(\"calling _invoke_model\")\n",
    "        response = _invoke_model(\"What are some common flaviviruses?\")\n",
    "        _print(\"done calling _invoke_model\")\n",
    "        return response\n",
    "\n",
    "    @property\n",
    "    def _identifying_params(self) -> Mapping[str, Any]:\n",
    "        \"\"\"Get the identifying parameters.\"\"\"\n",
    "        return {\"n\": self.n}\n",
    "\n",
    "    @property\n",
    "    def _generations(self):\n",
    "        return"
   ]
  },
  {
   "cell_type": "code",
   "execution_count": 12,
   "id": "993eb9b0",
   "metadata": {},
   "outputs": [
    {
     "name": "stdout",
     "output_type": "stream",
     "text": [
      "2024-01-12 15:03:15.939993 value: False for name: verbose and field: name='verbose' type=bool required=False default_factory='<function _get_verbosity>'\n",
      "2024-01-12 15:03:15.940202 value: 10 for name: n and field: name='n' type=int required=True\n",
      "2024-01-12 15:03:15.940297 calling invoke\n",
      "2024-01-12 15:03:15.940393 value: What are some common flaviviruses for name: text and field: name='text' type=str required=True\n",
      "2024-01-12 15:03:15.940852 calling _invoke_model\n",
      "{'response': 'Flaviviruses are a group of RNA viruses that are typically transmitted by arthropods such as mosquitoes and ticks. Some common flaviviruses include:\\n\\n1. Dengue virus\\n2. Zika virus\\n3. West Nile virus\\n4. Yellow fever virus\\n5. Japanese encephalitis virus\\n6. Tick-borne encephalitis virus\\n7. Murray Valley encephalitis virus\\n8. Saint Louis encephalitis virus\\n9. Powassan virus\\n\\nThese viruses can cause a range of symptoms, from mild flu-like illness to severe neurological disease and even death in some cases.'}\n",
      "2024-01-12 15:03:18.019021 done calling _invoke_model\n",
      "2024-01-12 15:03:18.019084 value: {\"response\":\"Flaviviruses are a group of RNA viruses that are typically transmitted by arthropods such as mosquitoes and ticks. Some common flaviviruses include:\\n\\n1. Dengue virus\\n2. Zika virus\\n3. West Nile virus\\n4. Yellow fever virus\\n5. Japanese encephalitis virus\\n6. Tick-borne encephalitis virus\\n7. Murray Valley encephalitis virus\\n8. Saint Louis encephalitis virus\\n9. Powassan virus\\n\\nThese viruses can cause a range of symptoms, from mild flu-like illness to severe neurological disease and even death in some cases.\"} for name: text and field: name='text' type=str required=True\n",
      "2024-01-12 15:03:18.019218 value: [[Generation(text='{\"response\":\"Flaviviruses are a group of RNA viruses that are typically transmitted by arthropods such as mosquitoes and ticks. Some common flaviviruses include:\\\\n\\\\n1. Dengue virus\\\\n2. Zika virus\\\\n3. West Nile virus\\\\n4. Yellow fever virus\\\\n5. Japanese encephalitis virus\\\\n6. Tick-borne encephalitis virus\\\\n7. Murray Valley encephalitis virus\\\\n8. Saint Louis encephalitis virus\\\\n9. Powassan virus\\\\n\\\\nThese viruses can cause a range of symptoms, from mild flu-like illness to severe neurological disease and even death in some cases.\"}')]] for name: generations and field: name='generations' type=List[List[langchain_core.outputs.generation.Generation]] required=True\n",
      "2024-01-12 15:03:18.019296 value: [[Generation(text='{\"response\":\"Flaviviruses are a group of RNA viruses that are typically transmitted by arthropods such as mosquitoes and ticks. Some common flaviviruses include:\\\\n\\\\n1. Dengue virus\\\\n2. Zika virus\\\\n3. West Nile virus\\\\n4. Yellow fever virus\\\\n5. Japanese encephalitis virus\\\\n6. Tick-borne encephalitis virus\\\\n7. Murray Valley encephalitis virus\\\\n8. Saint Louis encephalitis virus\\\\n9. Powassan virus\\\\n\\\\nThese viruses can cause a range of symptoms, from mild flu-like illness to severe neurological disease and even death in some cases.\"}')]] for name: generations and field: name='generations' type=List[List[langchain_core.outputs.generation.Generation]] required=True\n",
      "2024-01-12 15:03:18.019328 value: None for name: llm_output and field: name='llm_output' type=Optional[dict] required=False default=None\n",
      "2024-01-12 15:03:18.019380 value: 3de9233a-22b3-4114-a984-642424d61830 for name: run_id and field: name='run_id' type=UUID required=True\n",
      "2024-01-12 15:03:18.019492 done calling invoke\n"
     ]
    }
   ],
   "source": [
    "llm = ARGO_LLM(n=10)\n",
    "\n",
    "_print(\"calling invoke\")\n",
    "llm.invoke(\"What are some common flaviviruses\", {})\n",
    "_print(\"done calling invoke\")"
   ]
  },
  {
   "cell_type": "code",
   "execution_count": null,
   "id": "c57d5714-1f37-4dac-a221-375f94f18bf2",
   "metadata": {},
   "outputs": [],
   "source": []
  }
 ],
 "metadata": {
  "kernelspec": {
   "display_name": "Python 3 (ipykernel)",
   "language": "python",
   "name": "python3"
  },
  "language_info": {
   "codemirror_mode": {
    "name": "ipython",
    "version": 3
   },
   "file_extension": ".py",
   "mimetype": "text/x-python",
   "name": "python",
   "nbconvert_exporter": "python",
   "pygments_lexer": "ipython3",
   "version": "3.12.0"
  }
 },
 "nbformat": 4,
 "nbformat_minor": 5
}
