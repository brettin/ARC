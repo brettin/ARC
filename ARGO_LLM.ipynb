{
 "cells": [
  {
   "cell_type": "code",
   "execution_count": null,
   "id": "eccc9159",
   "metadata": {},
   "outputs": [],
   "source": [
    "from CustomLLM import ARGO_LLM"
   ]
  },
  {
   "cell_type": "code",
   "execution_count": null,
   "id": "993eb9b0",
   "metadata": {},
   "outputs": [],
   "source": [
    "llm = ARGO_LLM()\n",
    "response = llm.invoke(\"What are some common flaviviruses\")"
   ]
  }
 ],
 "metadata": {
  "kernelspec": {
   "display_name": "Python 3 (ipykernel)",
   "language": "python",
   "name": "python3"
  },
  "language_info": {
   "codemirror_mode": {
    "name": "ipython",
    "version": 3
   },
   "file_extension": ".py",
   "mimetype": "text/x-python",
   "name": "python",
   "nbconvert_exporter": "python",
   "pygments_lexer": "ipython3",
   "version": "3.12.0"
  }
 },
 "nbformat": 4,
 "nbformat_minor": 5
}
