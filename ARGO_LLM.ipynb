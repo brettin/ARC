{
 "cells": [
  {
   "cell_type": "code",
   "execution_count": 1,
   "id": "347e33e4",
   "metadata": {},
   "outputs": [],
   "source": [
    "from typing import Any, List, Mapping, Optional\n",
    "\n",
    "from langchain_core.callbacks.manager import CallbackManagerForLLMRun\n",
    "from langchain_core.language_models.llms import LLM"
   ]
  },
  {
   "cell_type": "code",
   "execution_count": 13,
   "id": "600f3d45",
   "metadata": {},
   "outputs": [
    {
     "name": "stdout",
     "output_type": "stream",
     "text": [
      "\u001b[1mCustomLLM\u001b[0m\n",
      "Params: {'n': 10}\n"
     ]
    }
   ],
   "source": [
    "import requests\n",
    "import json\n",
    "def _invoke_model(prompt: str) -> str:\n",
    "\n",
    "\n",
    "#    curl -X POST https://apps-dev.inside.anl.gov/argoapi/api/v1/resource/chat/ \\\n",
    "#         -H \"Content-Type: application/json\" \\\n",
    "#         -d '{\"user\":\"mtdapi\", \"model\":\"gpt35\", \"system\": \"You are a helpful operations assistant AI named Argo. You specialize in supporting the personnel, scientists, and facility users at Argonne National Laboratory.\", \"prompt\":[\"what is your name\"], \"stop\":[], \"temperature\":0.8, \"top_p\":0.7}'\n",
    "    \n",
    "    # Define the URL\n",
    "    url = \"https://apps-dev.inside.anl.gov/argoapi/api/v1/resource/chat/\"\n",
    "\n",
    "    # Define the headers\n",
    "    headers = {\n",
    "        \"Content-Type\": \"application/json\"\n",
    "    }\n",
    "\n",
    "    # Define the payload data as a dictionary\n",
    "    data = {\n",
    "        \"user\": \"mtdapi\",\n",
    "        \"model\": \"gpt35\",\n",
    "        \"system\": \"You are a helpful operations assistant AI named Argo. You specialize in supporting the personnel, scientists, and facility users at Argonne National Laboratory.\",\n",
    "        \"prompt\": [prompt],\n",
    "        \"stop\": [],\n",
    "        \"temperature\": 0.8,\n",
    "        \"top_p\": 0.7\n",
    "    }\n",
    "\n",
    "    # Convert the payload data to JSON format\n",
    "    data_json = json.dumps(data)\n",
    "    print(data_json)\n",
    "    \n",
    "    response = requests.post(url, headers=headers, data=data_json)\n",
    "\n",
    "    # Check the response\n",
    "    if response.status_code == 200:\n",
    "        # Print the response content (assuming it's JSON)\n",
    "        print(response.json())\n",
    "    else:\n",
    "        print(f\"Request failed with status code: {response.status_code}\")\n",
    "        print(response.text)\n",
    "    \n",
    "    \n",
    "    return\n",
    "\n",
    "\n",
    "\n",
    "class CustomLLM(LLM):\n",
    "    n: int\n",
    "\n",
    "    @property\n",
    "    def _llm_type(self) -> str:\n",
    "        return \"custom\"\n",
    "\n",
    "    def _call(\n",
    "        self,\n",
    "        prompt: str,\n",
    "        stop: Optional[List[str]] = None,\n",
    "        run_manager: Optional[CallbackManagerForLLMRun] = None,\n",
    "        **kwargs: Any,\n",
    "    ) -> str:\n",
    "        if stop is not None:\n",
    "            raise ValueError(\"stop kwargs are not permitted.\")\n",
    "        return prompt[: self.n]\n",
    "\n",
    "    @property\n",
    "    def _identifying_params(self) -> Mapping[str, Any]:\n",
    "        \"\"\"Get the identifying parameters.\"\"\"\n",
    "        return {\"n\": self.n}\n",
    "    \n",
    "\n",
    "llm = CustomLLM(n=10)\n",
    "llm.invoke(\"This is a foobar thing\")\n",
    "print(llm)"
   ]
  },
  {
   "cell_type": "code",
   "execution_count": null,
   "id": "993eb9b0",
   "metadata": {},
   "outputs": [],
   "source": [
    "_invoke_model(\"what are some common flaviviruses?\")"
   ]
  }
 ],
 "metadata": {
  "kernelspec": {
   "display_name": "Python 3 (ipykernel)",
   "language": "python",
   "name": "python3"
  },
  "language_info": {
   "codemirror_mode": {
    "name": "ipython",
    "version": 3
   },
   "file_extension": ".py",
   "mimetype": "text/x-python",
   "name": "python",
   "nbconvert_exporter": "python",
   "pygments_lexer": "ipython3",
   "version": "3.11.5"
  }
 },
 "nbformat": 4,
 "nbformat_minor": 5
}
