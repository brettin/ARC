{
 "cells": [
  {
   "cell_type": "code",
   "execution_count": 1,
   "id": "347e33e4",
   "metadata": {},
   "outputs": [
    {
     "name": "stdout",
     "output_type": "stream",
     "text": [
      "2024-01-09 20:40:11.089430 value: None for name: input_type and field: name='input_type' type=Optional[Type[~Other]] required=False default=None\n",
      "2024-01-09 20:40:11.089641 value: None for name: func and field: name='func' type=Union[Callable[[~Other], NoneType], Callable[[~Other, langchain_core.runnables.config.RunnableConfig], NoneType], NoneType] required=False default=None\n",
      "2024-01-09 20:40:11.089678 value: None for name: afunc and field: name='afunc' type=Union[Callable[[~Other], Awaitable[NoneType]], Callable[[~Other, langchain_core.runnables.config.RunnableConfig], Awaitable[NoneType]], NoneType] required=False default=None\n"
     ]
    }
   ],
   "source": [
    "from typing import Any, List, Mapping, Optional\n",
    "\n",
    "from langchain_core.callbacks.manager import CallbackManagerForLLMRun\n",
    "from langchain_core.language_models.llms import LLM\n",
    "\n"
   ]
  },
  {
   "cell_type": "code",
   "execution_count": 2,
   "id": "9e31b1e8-a6a9-4f75-9306-62bac3f362b4",
   "metadata": {},
   "outputs": [],
   "source": [
    "from datetime import datetime\n",
    "\n",
    "def _print(message):\n",
    "    print (\"{} {}\".format(datetime.now(), message))\n",
    "    return"
   ]
  },
  {
   "cell_type": "code",
   "execution_count": 3,
   "id": "600f3d45",
   "metadata": {},
   "outputs": [
    {
     "ename": "SyntaxError",
     "evalue": "unmatched '}' (1958486217.py, line 80)",
     "output_type": "error",
     "traceback": [
      "\u001b[0;36m  Cell \u001b[0;32mIn[3], line 80\u001b[0;36m\u001b[0m\n\u001b[0;31m    }\u001b[0m\n\u001b[0m    ^\u001b[0m\n\u001b[0;31mSyntaxError\u001b[0m\u001b[0;31m:\u001b[0m unmatched '}'\n"
     ]
    }
   ],
   "source": [
    "import requests\n",
    "import json\n",
    "\n",
    "    \n",
    "def _invoke_model(prompt: str) -> str:\n",
    "\n",
    "\n",
    "#    curl -X POST https://apps-dev.inside.anl.gov/argoapi/api/v1/resource/chat/ \\\n",
    "#         -H \"Content-Type: application/json\" \\\n",
    "#         -d '{\"user\":\"mtdapi\", \"model\":\"gpt35\", \"system\": \"You are a helpful operations assistant AI named Argo. You specialize in supporting the personnel, scientists, and facility users at Argonne National Laboratory.\", \"prompt\":[\"what is your name\"], \"stop\":[], \"temperature\":0.8, \"top_p\":0.7}'\n",
    "    \n",
    "    # Define the URL\n",
    "    url = \"https://apps-dev.inside.anl.gov/argoapi/api/v1/resource/chat/\"\n",
    "\n",
    "    # Define the headers\n",
    "    headers = {\n",
    "        \"Content-Type\": \"application/json\"\n",
    "    }\n",
    "\n",
    "    # Define the payload data as a dictionary\n",
    "    data = {\n",
    "        \"user\": \"mtdapi\",\n",
    "        \"model\": \"gpt35\",\n",
    "        \"system\": \"You are a helpful operations assistant AI named Argo. You specialize in supporting the personnel, scientists, and facility users at Argonne National Laboratory.\",\n",
    "        \"prompt\": [prompt],\n",
    "        \"stop\": [],\n",
    "        \"temperature\": 0.8,\n",
    "        \"top_p\": 0.7\n",
    "    }\n",
    "\n",
    "    # Convert the payload data to JSON format\n",
    "    data_json = json.dumps(data)\n",
    "    # print(data_json)\n",
    "    \n",
    "    response = requests.post(url, headers=headers, data=data_json)\n",
    "\n",
    "    # Check the response\n",
    "    if response.status_code == 200:\n",
    "        # Print the response content (assuming it's JSON)\n",
    "        print(response.json())\n",
    "    else:\n",
    "        print(f\"Request failed with status code: {response.status_code}\")\n",
    "        print(response.text)\n",
    "    \n",
    "    \n",
    "    return\n",
    "\n",
    "\n",
    "\n",
    "class CustomLLM(LLM):\n",
    "\n",
    "    n: int 0\n",
    "    @property\n",
    "    def _llm_type(self) -> str:\n",
    "        return \"custom\"\n",
    "\n",
    "    def _call(\n",
    "        self,\n",
    "        prompt: str,\n",
    "        stop: Optional[List[str]] = None,\n",
    "        run_manager: Optional[CallbackManagerForLLMRun] = None,\n",
    "        **kwargs: Any,\n",
    "    ) -> str:\n",
    "        if stop is not None:\n",
    "            raise ValueError(\"stop kwargs are not permitted.\")\n",
    "        #return prompt[: self.n]\n",
    "        _print(\"calling _invoke_model\")\n",
    "        response = _invoke_model(\"What are some common flaviviruses?\")\n",
    "        _print(\"done calling _invoke_model\")\n",
    "        return response\n",
    "\n",
    "\n",
    "\n",
    "    @property\n",
    "    def _identifying_params(self) -> Mapping[str, Any]:\n",
    "        \"\"\"Get the identifying parameters.\"\"\"\n",
    "        return {\"n\": self.n}\n",
    "\n",
    "\n",
    "        }\n",
    "\n",
    "\n",
    "    @property\n",
    "    def _generations(self):\n",
    "        return \n",
    "    \n",
    "\n",
    "llm = CustomLLM(n=10)\n",
    "_print(\"calling invoke\")\n",
    "\n",
    "llm.invoke(\"What are some common flaviviruses\", {})\n",
    "print(llm)"
   ]
  },
  {
   "cell_type": "code",
   "execution_count": null,
   "id": "993eb9b0",
   "metadata": {},
   "outputs": [],
   "source": [
    "# _invoke_model(\"what are some common flaviviruses?\")"
   ]
  },
  {
   "cell_type": "code",
   "execution_count": null,
   "id": "c57d5714-1f37-4dac-a221-375f94f18bf2",
   "metadata": {},
   "outputs": [],
   "source": []
  }
 ],
 "metadata": {
  "kernelspec": {
   "display_name": "Python 3 (ipykernel)",
   "language": "python",
   "name": "python3"
  },
  "language_info": {
   "codemirror_mode": {
    "name": "ipython",
    "version": 3
   },
   "file_extension": ".py",
   "mimetype": "text/x-python",
   "name": "python",
   "nbconvert_exporter": "python",
   "pygments_lexer": "ipython3",
   "version": "3.12.0"
  }
 },
 "nbformat": 4,
 "nbformat_minor": 5
}
