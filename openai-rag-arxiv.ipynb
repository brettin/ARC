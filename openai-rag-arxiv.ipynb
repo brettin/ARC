{
 "cells": [
  {
   "cell_type": "code",
   "execution_count": 1,
   "id": "ddc9b568",
   "metadata": {},
   "outputs": [
    {
     "name": "stdout",
     "output_type": "stream",
     "text": [
      "Enter OPENAI_API_KEY: ········\n"
     ]
    }
   ],
   "source": [
    "from langchain.document_loaders import ArxivLoader\n",
    "from langchain.retrievers import ArxivRetriever\n",
    "from langchain.text_splitter import RecursiveCharacterTextSplitter\n",
    "\n",
    "from langchain.embeddings import OpenAIEmbeddings\n",
    "from langchain.vectorstores import Chroma\n",
    "# This is going to change to langchain_community.vectorstores\n",
    "\n",
    "import os\n",
    "from getpass import getpass\n",
    "# os.environ['HUGGINGFACEHUB_API_TOKEN'] = getpass('Enter HUGGINGFACEHUB_API_TOKEN: ')\n",
    "os.environ['OPENAI_API_KEY'] = getpass(\"Enter OPENAI_API_KEY: \")\n",
    "\n",
    "# cleanup previous\n",
    "# vectorstore.delete_collection()\n",
    "\n",
    "docs = ArxivLoader(query=\"Antibiotic design using deep learning\", load_max_docs=10).load()\n",
    "\n",
    "text_splitter = RecursiveCharacterTextSplitter(chunk_size=1000, chunk_overlap=200)\n",
    "splits = text_splitter.split_documents(docs)\n",
    "\n",
    "\n"
   ]
  },
  {
   "cell_type": "code",
   "execution_count": 2,
   "id": "2487de49",
   "metadata": {},
   "outputs": [],
   "source": [
    "# So, what is going on here? A vectorstore is created and initialized with an Embeddings()\n",
    "# class. The vector store is also given splits, which is a ???\n",
    "\n",
    "vectorstore = Chroma.from_documents(documents=splits, \n",
    "                                    embedding=OpenAIEmbeddings(),\n",
    "                                    persist_directory=\".\"\n",
    "                                   )\n",
    "retriever = vectorstore.as_retriever()\n"
   ]
  },
  {
   "cell_type": "code",
   "execution_count": null,
   "id": "1d454b38",
   "metadata": {},
   "outputs": [],
   "source": []
  },
  {
   "cell_type": "code",
   "execution_count": null,
   "id": "734a92e5",
   "metadata": {},
   "outputs": [],
   "source": [
    "prompt = hub.pull(\"rlm/rag-prompt\")\n",
    "llm = ChatOpenAI(model_name=\"gpt-3.5-turbo\", temperature=0)\n",
    "\n",
    "def format_docs(docs):\n",
    "    return \"\\n\\n\".join(doc.page_content for doc in docs)\n",
    "\n",
    "rag_chain = (\n",
    "    {\"context\": retriever | format_docs, \"question\": RunnablePassthrough()}\n",
    "    | prompt\n",
    "    | llm\n",
    "    | StrOutputParser()\n",
    ")\n",
    "\n",
    "resp = rag_chain.invoke(\n",
    "  \"\"\"\n",
    "  Can you provide a summary of the current state of applying\n",
    "  deep learning to the discovery of new antibiotics?\n",
    "  \"\"\"\n",
    ")\n",
    "\n",
    "resp.format()\n",
    "\n",
    "# vectorstore.delete_collection()"
   ]
  }
 ],
 "metadata": {
  "kernelspec": {
   "display_name": "Python 3 (ipykernel)",
   "language": "python",
   "name": "python3"
  },
  "language_info": {
   "codemirror_mode": {
    "name": "ipython",
    "version": 3
   },
   "file_extension": ".py",
   "mimetype": "text/x-python",
   "name": "python",
   "nbconvert_exporter": "python",
   "pygments_lexer": "ipython3",
   "version": "3.11.5"
  }
 },
 "nbformat": 4,
 "nbformat_minor": 5
}
