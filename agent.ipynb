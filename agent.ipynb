{
 "cells": [
  {
   "cell_type": "code",
   "execution_count": null,
   "id": "5017f52a",
   "metadata": {},
   "outputs": [],
   "source": [
    "# The core idea of agents is to use a language model to choose a \n",
    "# sequence of actions to take. In chains, a sequence of actions is\n",
    "# hardcoded (in code). In agents, a language model is used as a\n",
    "# reasoning engine to determine which actions to take and in which\n",
    "# order."
   ]
  },
  {
   "cell_type": "code",
   "execution_count": null,
   "id": "0901cb54",
   "metadata": {},
   "outputs": [],
   "source": [
    "# Create a LLM\n",
    "from getpass import getpass\n",
    "import os\n",
    "os.environ['OPENAI_API_KEY'] = getpass()\n",
    "\n",
    "from langchain_community.chat_models import ChatOpenAI\n",
    "llm = ChatOpenAI(model=\"gpt-3.5-turbo\", temperature=0)"
   ]
  },
  {
   "cell_type": "code",
   "execution_count": null,
   "id": "623650ef",
   "metadata": {},
   "outputs": [],
   "source": [
    "# Get the prompt to use - you can modify this!\n",
    "from langchain import hub\n",
    "prompt = hub.pull(\"hwchase17/self-ask-with-search\")\n",
    "# print(f'{prompt.format(agent_scratchpad = \"AGENTSCRATCHPAD\", input = \"INPUT\")}')"
   ]
  },
  {
   "cell_type": "code",
   "execution_count": null,
   "id": "2b7f7ea7",
   "metadata": {},
   "outputs": [],
   "source": [
    "# Define the tool to use. This will be a retreiver_tool.\n",
    "#\n",
    "# A retriever is an interface that returns documents given an unstructured query.\n",
    "# It is more general than a vector store. A retriever does not need to be able to store\n",
    "# documents, only to return (or retrieve) them. Vector stores can be used as the backbone\n",
    "# of a retriever, but there are other types of retrievers as well.\n",
    "\n",
    "# Connect to a web service\n",
    "from langchain.retrievers import ArxivRetriever\n",
    "from langchain.retrievers.web_research import WebResearchRetriever\n",
    "axriv_retriever = ArxivRetriever(load_max_docs=2, sortBy='lastUpdatedDate', name='Intermediate Answer')\n",
    "web_research_retreiver = WebResearchRetriever()\n",
    "\n",
    "retreiver = web_research_retreiver\n",
    "\n",
    "query = \"recent flavivirus outbreak\"\n",
    "docs = retriever.get_relevant_documents(query=query)\n",
    "for index, doc in enumerate(docs):\n",
    "    print (\"{}\\t{}.\".format(index, doc.metadata['Title']))\n",
    "    print(\"\\t{}\".format(doc.metadata['Entry ID']))\n",
    "    print(\"\\t{}\".format(doc.metadata['Published']))\n",
    "    # print(doc.metadata)"
   ]
  },
  {
   "cell_type": "code",
   "execution_count": null,
   "id": "f03cc9f8",
   "metadata": {},
   "outputs": [],
   "source": [
    "from langchain.tools.retriever import create_retriever_tool\n",
    "\n",
    "# retriever – The retriever to use for the retrieval\n",
    "# name – The name for the tool. This will be passed to the language model, \n",
    "#   so it should be unique and somewhat descriptive.\n",
    "# description – The description for the tool. This will be passed to the language model,\n",
    "#   so it should be descriptive.\n",
    "\n",
    "retriever_tool = create_retriever_tool(\n",
    "    retriever,\n",
    "    \"Intermediate Answer\",\n",
    "    \"Search for information about outbreaks. For any questions about outbreaks, you must use this tool!\",\n",
    ")\n",
    "tools = [retriever_tool]"
   ]
  },
  {
   "cell_type": "code",
   "execution_count": null,
   "id": "2ddded4c",
   "metadata": {},
   "outputs": [],
   "source": [
    "# Construct the Self Ask With Search Agent\n",
    "from langchain.agents import AgentExecutor, create_self_ask_with_search_agent\n",
    "agent = create_self_ask_with_search_agent(llm, tools, prompt)"
   ]
  },
  {
   "cell_type": "code",
   "execution_count": null,
   "id": "c32c44bd",
   "metadata": {},
   "outputs": [],
   "source": [
    "# Create an agent executor by passing in the agent and tools\n",
    "agent_executor = AgentExecutor(agent=agent, tools=tools,\n",
    "                               verbose=True, handle_parsing_errors=True)\n",
    "\n",
    "docs = agent_executor.invoke(\n",
    "    {\"input\": \"\"}\n",
    ")"
   ]
  },
  {
   "cell_type": "code",
   "execution_count": null,
   "id": "96dad875",
   "metadata": {},
   "outputs": [],
   "source": [
    "for index, doc in enumerate(docs):\n",
    "    #print (\"{}\\t{}.\".format(index, doc.metadata['Title']))\n",
    "    #print(\"\\t{}\".format(doc.metadata['Entry ID']))\n",
    "    #print(\"\\t{}\".format(doc.metadata['Published']))\n",
    "    print(doc)"
   ]
  },
  {
   "cell_type": "raw",
   "id": "b57db465",
   "metadata": {},
   "source": [
    "import langchain.agents\n",
    "\n",
    "# does not need to support chat history, rather this agent is\n",
    "# suitable for single tasks\n",
    "# single or multi input tool, we will do a single input example first\n",
    "# supports parallel function calling, we will not do this in the first example\n",
    "\n",
    "# The goal is to learn these concepts\n",
    "# agent = \n",
    "# agent_action = \n",
    "# agent_finish = \n",
    "# intermediate_steps = \n",
    "# agent_executor = \n",
    "# tools =\n",
    "# toolkits =\n",
    "\n",
    "\n",
    "Question: Are there any outbreaks that I need to be concerned about?\n",
    "Are follow up questions needed here: Yes.\n",
    "Follow up: What information about an outbreak would concern you?\n",
    "Intermediate Answer: A sharp rise in ICU admissions at the University of Chicago Hospital\n",
    "Follow up: What is the normal rate of ICU admissions at the University of Chicago Hospital\n",
    "Intermediate Answer: Five admissions per day.\n",
    "Follow up: How many ICU admissions did the University of Chicago Hospital have yesterday?\n",
    "Intermediate Answer: 15\n",
    "Follow up: Is 15 - 5 more than twice the standard deviation of ICU daily admissions at the University of CHicago Hospital?\n",
    "Intermediate answer: yes\n",
    "Final Answer: (edited) There is an outbreak that you should be concerned about.\n",
    "    \n"
   ]
  },
  {
   "cell_type": "raw",
   "id": "18af5ad9",
   "metadata": {},
   "source": [
    "Original question:\n",
    "Follow up question:\n",
    "Intermediate answer:\n",
    "Follow up question:\n",
    "Intermediate answer:\n",
    "Follow up question:\n",
    "Intermediate answer:\n",
    "Follow up question:\n",
    "Intermediate answer:\n",
    "Follow up question:\n",
    "Intermediate answer:\n",
    "Answer to original question:"
   ]
  },
  {
   "cell_type": "code",
   "execution_count": null,
   "id": "183c5866",
   "metadata": {},
   "outputs": [],
   "source": []
  },
  {
   "cell_type": "code",
   "execution_count": null,
   "id": "536ead9d",
   "metadata": {},
   "outputs": [],
   "source": []
  }
 ],
 "metadata": {
  "kernelspec": {
   "display_name": "Python 3 (ipykernel)",
   "language": "python",
   "name": "python3"
  },
  "language_info": {
   "codemirror_mode": {
    "name": "ipython",
    "version": 3
   },
   "file_extension": ".py",
   "mimetype": "text/x-python",
   "name": "python",
   "nbconvert_exporter": "python",
   "pygments_lexer": "ipython3",
   "version": "3.11.5"
  }
 },
 "nbformat": 4,
 "nbformat_minor": 5
}
