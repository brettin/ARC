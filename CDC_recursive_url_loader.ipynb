{
 "cells": [
  {
   "cell_type": "code",
   "execution_count": null,
   "id": "f0f3cb9f",
   "metadata": {},
   "outputs": [],
   "source": [
    "# !pip install -q openai langchain playwright beautifulsoup4 playwright install"
   ]
  },
  {
   "cell_type": "code",
   "execution_count": null,
   "id": "a30768e7",
   "metadata": {},
   "outputs": [],
   "source": [
    "from getpass import getpass\n",
    "import os\n",
    "os.environ['OPENAI_API_KEY'] = getpass()"
   ]
  },
  {
   "cell_type": "code",
   "execution_count": 2,
   "id": "60d229ff",
   "metadata": {},
   "outputs": [],
   "source": [
    "from langchain_community.document_loaders.recursive_url_loader import RecursiveUrlLoader\n",
    "from bs4 import BeautifulSoup as Soup\n",
    "\n",
    "import bs4\n",
    "from langchain import hub\n",
    "from langchain.chat_models import ChatOpenAI\n",
    "from langchain.document_loaders import WebBaseLoader\n",
    "from langchain.embeddings import OpenAIEmbeddings\n",
    "from langchain.schema import StrOutputParser\n",
    "from langchain.schema.runnable import RunnablePassthrough\n",
    "from langchain.text_splitter import RecursiveCharacterTextSplitter\n",
    "from langchain.vectorstores import Chroma\n",
    "\n",
    "url = \"https://www.cdc.gov\"\n",
    "loader = RecursiveUrlLoader(\n",
    "    url=url, max_depth=2, extractor=lambda x: Soup(x, \"html.parser\").text\n",
    ")\n",
    "docs = loader.load()\n",
    "\n",
    "text_splitter = RecursiveCharacterTextSplitter(chunk_size=1000, chunk_overlap=200)\n",
    "splits = text_splitter.split_documents(docs)\n",
    "\n",
    "vectorstore = Chroma.from_documents(documents=splits, embedding=OpenAIEmbeddings())\n",
    "retriever = vectorstore.as_retriever()"
   ]
  },
  {
   "cell_type": "code",
   "execution_count": 8,
   "id": "cd1b829b",
   "metadata": {},
   "outputs": [
    {
     "name": "stdout",
     "output_type": "stream",
     "text": [
      "Question: Who lived longer, Muhammad Ali or Alan Turing?\n",
      "Are follow up questions needed here: Yes.\n",
      "Follow up: How old was Muhammad Ali when he died?\n",
      "Intermediate answer: Muhammad Ali was 74 years old when he died.\n",
      "Follow up: How old was Alan Turing when he died?\n",
      "Intermediate answer: Alan Turing was 41 years old when he died.\n",
      "So the final answer is: Muhammad Ali\n",
      "\n",
      "Question: When was the founder of craigslist born?\n",
      "Are follow up questions needed here: Yes.\n",
      "Follow up: Who was the founder of craigslist?\n",
      "Intermediate answer: Craigslist was founded by Craig Newmark.\n",
      "Follow up: When was Craig Newmark born?\n",
      "Intermediate answer: Craig Newmark was born on December 6, 1952.\n",
      "So the final answer is: December 6, 1952\n",
      "\n",
      "Question: Who was the maternal grandfather of George Washington?\n",
      "Are follow up questions needed here: Yes.\n",
      "Follow up: Who was the mother of George Washington?\n",
      "Intermediate answer: The mother of George Washington was Mary Ball Washington.\n",
      "Follow up: Who was the father of Mary Ball Washington?\n",
      "Intermediate answer: The father of Mary Ball Washington was Joseph Ball.\n",
      "So the final answer is: Joseph Ball\n",
      "\n",
      "Question: Are both the directors of Jaws and Casino Royale from the same country?\n",
      "Are follow up questions needed here: Yes.\n",
      "Follow up: Who is the director of Jaws?\n",
      "Intermediate answer: The director of Jaws is Steven Spielberg.\n",
      "Follow up: Where is Steven Spielberg from?\n",
      "Intermediate answer: The United States.\n",
      "Follow up: Who is the director of Casino Royale?\n",
      "Intermediate answer: The director of Casino Royale is Martin Campbell.\n",
      "Follow up: Where is Martin Campbell from?\n",
      "Intermediate answer: New Zealand.\n",
      "So the final answer is: No\n",
      "\n",
      "Question: INPUT\n",
      "Are followup questions needed here:AGENTSCRATCHPAD\n"
     ]
    }
   ],
   "source": [
    "from langchain_community.chat_models import ChatOpenAI\n",
    "# llm = ChatOpenAI(model=\"gpt-3.5-turbo\", temperature=.2)\n",
    "llm = ChatOpenAI(model=\"gpt-4-1106-preview\", temperature=0)\n",
    "\n",
    "from langchain import hub\n",
    "prompt = hub.pull(\"hwchase17/self-ask-with-search\")\n",
    "print(f'{prompt.format(agent_scratchpad = \"AGENTSCRATCHPAD\", input = \"INPUT\")}')\n",
    "\n",
    "from langchain.tools.retriever import create_retriever_tool\n",
    "retriever_tool = create_retriever_tool(\n",
    "    retriever,\n",
    "    \"Intermediate Answer\",\n",
    "    \"Search for information about outbreaks. For any questions about outbreaks, you must use this tool!\",\n",
    ")\n",
    "tools = [retriever_tool]\n"
   ]
  },
  {
   "cell_type": "code",
   "execution_count": 9,
   "id": "dcba109b",
   "metadata": {},
   "outputs": [],
   "source": [
    "# Construct the Self Ask With Search Agent\n",
    "from langchain.agents import AgentExecutor, create_self_ask_with_search_agent\n",
    "agent = create_self_ask_with_search_agent(llm, tools, prompt)"
   ]
  },
  {
   "cell_type": "code",
   "execution_count": 10,
   "id": "65760391",
   "metadata": {},
   "outputs": [
    {
     "name": "stdout",
     "output_type": "stream",
     "text": [
      "\n",
      "\n",
      "\u001b[1m> Entering new AgentExecutor chain...\u001b[0m\n",
      "\u001b[32;1m\u001b[1;3mYes.\n",
      "Follow up: What are some examples of diseases caused by flaviviruses?\u001b[0m\u001b[36;1m\u001b[1;3m[Document(page_content='H. Lorenzo Juanes et al.\\n View Abstract\\n Cite This Article\\n\\n\\n\\nCrimean-Congo hemorrhagic fever (CCHF) is a viral infectious disease for which distribution of the main vector, Hyalomma spp. ticks, is expanding. We analyzed all 10 cases of CCHF diagnosed in Spain during 2013–2021; case-patient median age was 56.5 years, and 7 were men. We identified CCHF virus genotypes III and V. Six case-patients acquired the infection in urban areas. Sixty percent of patients were infected in summer and 40% in spring. Two patients met criteria for hemophagocytic syndrome. Seven patients survived. The epidemiologic pattern of CCHF in Spain is based on occasional cases with an elevated mortality rate. Genotype III and, to a less extent also genotype V, CCHF circulates in humans in a common geographic area in Spain. Those data suggest that the expansion pathways are complex and may change over time. Physicians should remain alert to the possibility of new CCHF cases.', metadata={'description': 'Emerging Infectious Diseases is a peer-reviewed, monthly journal published by the Centers for Disease Control and Prevention (CDC). It offers global health professionals the latest scientific information on emerging infectious diseases and trends. Articles provide the most up-to-date information on infectious diseases and their effects on global health.', 'language': 'en-us', 'source': 'https://www.cdc.gov/eid/', 'title': 'Emerging Infectious Diseases - CDC'}), Document(page_content='Crimean-Congo Hemorrhagic Fever, Spain, 2013–2021\\n\\n\\n\\n\\n\\n\\n\\r\\n        [PDF - 2.14 MB - 8 pages]\\r\\n    \\n\\n\\nH. Lorenzo Juanes et al.\\n View Abstract\\n Cite This Article', metadata={'description': 'Emerging Infectious Diseases is a peer-reviewed, monthly journal published by the Centers for Disease Control and Prevention (CDC). It offers global health professionals the latest scientific information on emerging infectious diseases and trends. Articles provide the most up-to-date information on infectious diseases and their effects on global health.', 'language': 'en-us', 'source': 'https://www.cdc.gov/eid/', 'title': 'Emerging Infectious Diseases - CDC'}), Document(page_content=\"Section Navigation\\n\\n\\n\\n\\n\\n\\n\\n\\nCDC Home\\n\\n\\n\\n\\n\\n\\n\\n\\n\\n\\n\\n\\n\\n\\n\\n\\n\\n\\n\\n\\n\\n \\n\\n\\n\\n\\n\\n\\n\\n\\n\\n\\n\\nProtect yourself from COVID-19, Flu, and RSV \\nEspaÃ±ol Print\\n\\n\\n\\n\\n\\nMinus\\n\\n\\n\\nRelated Pages\\n\\n\\n\\n\\nEspañol\\n\\nProtect yourself and others from Flu, COVID-19, and RSV\\nRespiratory viruses commonly cause illness such as flu, COVID-19, and respiratory syncytial virus (RSV), especially in the fall and winter. There are actions you can take to protect yourself and others. Learn about how to reduce your risk of getting sick from these viruses, and if they are spreading in your community.\\xa0\\n\\n\\n\\nResources for PartnersResources for ProvidersRespiratory Virus Data Channel\\n\\n\\n\\n\\n\\nNews about the season: Find weekly CDC updates\\n\\n\\n\\n\\n\\n\\n\\n\\n\\n\\n\\n\\n\\nThere was a problem loading data. Please wait and try again. What's happening near you\\n\\n \\nSelect a state\\n \\n \\nSelect a county\\n \\n Submit \\n Reset \\n\\n\\n\\n \\n Based on healthcare visits for fever and\\r\\n                cough or sore throat:\", metadata={'language': 'en-us', 'source': 'https://www.cdc.gov/respiratory-viruses/index.html', 'title': 'Protect yourself from COVID-19, Flu, and RSV '}), Document(page_content='Lung Injury Associated with E-cigarette Use or Vaping\\nAnnounced August 2019\\n\\n\\nRaw Milk â\\x80\\x93 Drug-resistant Brucella (RB51)\\nAnnounced February 2019\\n\\n\\nMeasles Outbreaks 2019\\nAnnounced January 2019\\n\\n\\nOutbreaks of hepatitis A in multiple states among people who are homeless and people who use drugs\\nAnnounced March 2017\\n\\n\\n\\nTravel Notices Affecting International TravelersPlease see the Travelers’ Health site for a complete list.\\nLevel 2 - Diphtheria in Niger December 2023Level 1 - Dengue in Africa and the Middle East December 2023Level 1 - Rocky Mountain Spotted Fever in Mexico  December 2023Level 2 - Mpox in the Democratic Republic of the Congo (DRC) December 2023Level 2 - Chikungunya in Burkina Faso November 2023Level 2 - Diphtheria in Guinea September 2023Level 1 - Global Measles May 2023\\n\\nUnderstanding OutbreaksIn the last two years, CDC has sent scientists and doctors out more than 750 times to respond to health threats. Learn more below.', metadata={'description': 'Current outbreak list for both U.S.-based and international travelers - CDC', 'language': 'en-us', 'source': 'https://www.cdc.gov/outbreaks/', 'title': 'CDC Current Outbreak List | CDC'})]\u001b[0m\u001b[32;1m\u001b[1;3mSome examples of diseases caused by flaviviruses include:\n",
      "\n",
      "- Dengue fever\n",
      "- Yellow fever\n",
      "- West Nile virus\n",
      "- Zika virus\n",
      "- Japanese encephalitis\n",
      "- Tick-borne encephalitis\n",
      "\n",
      "Based on the provided documents, there is a mention of Dengue in Africa and the Middle East as of December 2023, which indicates that there is a current flavivirus-related disease outbreak.\n",
      "\n",
      "So the final answer is: Yes, there are current flavivirus-related disease outbreaks, such as Dengue in Africa and the Middle East.\u001b[0m\n",
      "\n",
      "\u001b[1m> Finished chain.\u001b[0m\n"
     ]
    },
    {
     "data": {
      "text/plain": [
       "{'input': 'Are there any current flavivirus related disease outbreaks?     Thoughts go here... Follow up:  What viruses belong to the flavivirus family?     Thoughts go here... So the final answer is:',\n",
       " 'output': 'Yes, there are current flavivirus-related disease outbreaks, such as Dengue in Africa and the Middle East.'}"
      ]
     },
     "execution_count": 10,
     "metadata": {},
     "output_type": "execute_result"
    }
   ],
   "source": [
    "# Create an agent executor by passing in the agent and tools\n",
    "agent_executor = AgentExecutor(agent=agent, tools=tools,\n",
    "                               verbose=True, handle_parsing_errors=True)\n",
    "\n",
    "agent_executor.invoke(\n",
    "    {\"input\": \"Are there any current flavivirus related disease outbreaks? \\\n",
    "    Thoughts go here... Follow up:  What viruses belong to the flavivirus family? \\\n",
    "    Thoughts go here... So the final answer is:\",\n",
    "    }\n",
    ")"
   ]
  },
  {
   "cell_type": "code",
   "execution_count": null,
   "id": "e10ffde6",
   "metadata": {},
   "outputs": [],
   "source": []
  }
 ],
 "metadata": {
  "kernelspec": {
   "display_name": "Python 3 (ipykernel)",
   "language": "python",
   "name": "python3"
  },
  "language_info": {
   "codemirror_mode": {
    "name": "ipython",
    "version": 3
   },
   "file_extension": ".py",
   "mimetype": "text/x-python",
   "name": "python",
   "nbconvert_exporter": "python",
   "pygments_lexer": "ipython3",
   "version": "3.11.5"
  }
 },
 "nbformat": 4,
 "nbformat_minor": 5
}
